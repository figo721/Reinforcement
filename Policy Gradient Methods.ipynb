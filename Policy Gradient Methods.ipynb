{
 "cells": [
  {
   "cell_type": "markdown",
   "metadata": {},
   "source": [
    "Policy Gradient Methods\n",
    "\n",
    "\n",
    "\n",
    "<div class=\"alert alert-info\">\n",
    "    \n",
    "In this assignment we will solve the Cartpole balancing problem using\n",
    "the **Policy Gradient Method REINFORCE**.\n",
    "<br>\n",
    "\n",
    "In particular we will use a neural network to approximate our policy $\\pi(a|s)$. To that end we will rely on an auto-differentiation framwork which will provide us with the gradients of our policy with respect to its parameters.\n",
    "We will leave it up to you which framework you choose (Theano, Tensorflow, PyTorch, ..), but we of course woun't be able to provide \"support\" for all of them.\n",
    "\n",
    "- Our recommendation, which we also use in our tutorials for this class, is **PyTorch**.\n",
    "- Also do not use high-level packages such as Keras for solving the assignment. We want to see a clean and \"exposed\" implementation of REINFORCE.\n",
    "<br>\n",
    "\n",
    "To accomplish this exercise read the notebook carefully from beginning to end end fill out to coding parts marked with **TODO**.<br>\n",
    "Please also **provided comments in your code** to make it is easier for us to understand all the different submissions.\n",
    "</div>\n",
    "\n",
    "---"
   ]
  },
  {
   "cell_type": "markdown",
   "metadata": {},
   "source": [
    "## Python Imports\n",
    "\n",
    "- Please make sure that you have installed OpenAI gym (https://gym.openai.com/docs/). This should be anyways ready from your previous assignment."
   ]
  },
  {
   "cell_type": "code",
   "execution_count": 427,
   "metadata": {},
   "outputs": [],
   "source": [
    "from __future__ import print_function\n",
    "\n",
    "import sys\n",
    "import gym\n",
    "import numpy as np\n",
    "import matplotlib.pyplot as plt\n",
    "import matplotlib.patches as mpatches\n",
    "\n",
    "# set some colors for plots\n",
    "cmap = ['m', 'b', 'g', 'k', 'orange', 'c']\n",
    "\n",
    "# we also fix a seed for reproducing our results\n",
    "np.random.seed(4711)"
   ]
  },
  {
   "cell_type": "code",
   "execution_count": 428,
   "metadata": {},
   "outputs": [],
   "source": [
    "# pytorch imports\n",
    "# (if you don't want to use PyTorch just replace this with whatever you need)\n",
    "import torch\n",
    "import torch.optim as optim\n",
    "import torch.nn as nn\n"
   ]
  },
  {
   "cell_type": "markdown",
   "metadata": {},
   "source": [
    "## 1. Implement Reinforce\n",
    "In this part of the assignment we will first define the neural network approximating our policy.<br>\n",
    "In the second part we implement the **REINFORCE** algorithm shown in our class.\n",
    "\n",
    "### 1.1 Define Policy Network (2 Points)\n",
    "Define the policy network. The output of this network is the action selection probability for each of the actions (this will require a *softmax* nonlinearity in the output layer).\n",
    "You can look in the **function_approximation.ipynb** to re-check how you can define a Neural Network in PyTorch.\n",
    "\n",
    "<div class=\"alert alert-info\">\n",
    "\n",
    "**Hint:** We solved the task using a neural network with two hidden layers (each 32 units) and tanh nonlinearity. But the architecture design is up to you.\n",
    "We actually encourage you to play around with it and investigate its impact on the overall performance of the system.\n",
    "</div>\n",
    "\n",
    "<div class=\"alert alert-info\">\n",
    "\n",
    "**Hint:** Make sure to initialize the weights of your neural network properly.\n",
    "Possible options for initializing your *[Linear](https://pytorch.org/docs/stable/nn.html#linear)* layer can be found [here](https://pytorch.org/docs/stable/nn.html#torch-nn-init).\n",
    "\n",
    "We recommend to initialize the weights with *nn.init.xavier_uniform_* and the bias with zeros (nn.init.constant_).\n",
    "However, we again encourage you to play around with this.\n",
    "\n",
    "</div>"
   ]
  },
  {
   "cell_type": "code",
   "execution_count": 429,
   "metadata": {},
   "outputs": [],
   "source": [
    "class Policy_est(nn.Module):\n",
    "    \n",
    "    def __init__(self):\n",
    "        super(Policy_est,self).__init__()\n",
    "        self.n_inputs = env.observation_space.shape[0]\n",
    "        self.n_outputs = env.action_space.n\n",
    "        \n",
    "        # using 2 hidden layers \n",
    "        self.fc1 = nn.Linear(self.n_inputs, 128)\n",
    "        self.fc2 = nn.Linear(128, 128)\n",
    "        self.fc3 = nn.Linear(128, 128)\n",
    "        self.fc4 = nn.Linear(128, self.n_outputs)\n",
    "    \n",
    "        \n",
    "        for m in self.modules():\n",
    "            if isinstance(m, nn.Linear):\n",
    "                nn.init.xavier_uniform(m.weight) \n",
    "                nn.init.constant_(m.bias.data,0)\n",
    "                \n",
    "\n",
    "    def forward(self, x):\n",
    "        \n",
    "        x = nn.functional.relu(self.fc1(x))\n",
    "        x = nn.functional.relu(self.fc2(x))\n",
    "        x = nn.functional.relu(self.fc3(x))\n",
    "        policy = nn.functional.softmax(self.fc4(x),dim=-1)\n",
    "        return policy\n"
   ]
  },
  {
   "cell_type": "markdown",
   "metadata": {},
   "source": [
    "### 1.2 Reinforce (8 Points)\n",
    "Implement an agent which learns by the REINFORCE algorithm ... <br>\n",
    "\n",
    "<div class=\"alert alert-info\"> \n",
    "\n",
    "**Hints:**\n",
    "- Use the Adam update rule with a learning rate of $0.001$ for Stochastic Gradient Ascent.<br>\n",
    "- Use discounting for computing the returns $G_t$\n",
    "</div>"
   ]
  },
  {
   "cell_type": "code",
   "execution_count": 430,
   "metadata": {},
   "outputs": [],
   "source": [
    "class Reinforce(object):\n",
    "    \"\"\"\n",
    "    REINFORCE Agent\n",
    "    \"\"\"\n",
    "\n",
    "    def __init__(self, env, alpha=0.001, use_baseline=False):\n",
    "        \"\"\"\n",
    "        Constructor\n",
    "        \n",
    "        @env: OpenAI gym environment the agent should interact with\n",
    "        @alpha (float): learning rate of policy optimizer\n",
    "        \"\"\"\n",
    "        \n",
    "        self.env = env\n",
    "        self.alpha = alpha\n",
    "        self.policy = Policy_est()\n",
    "        self.log_prob_his = []\n",
    "        self.optimizer = optim.Adam(self.policy.parameters(), lr=self.alpha)\n",
    "    \n",
    "    \n",
    "    def reset(self):\n",
    "        \"\"\"\n",
    "        Reset agent:\n",
    "            - instantiate policy network\n",
    "            - initialize the parameters of the network\n",
    "            - instantiate policy optimizer (e.g. optim.Adam)\n",
    "        \"\"\"\n",
    "        device = torch.device('cuda:0' if torch.cuda.is_available() else 'cpu')\n",
    "        self.policy = self.policy.to(device)\n",
    "        self.parameters = self.policy.apply(self.policy.init_weights)\n",
    "        self.optimizer()\n",
    "        \n",
    "        \n",
    "    def choose_action(self, state):\n",
    "        \"\"\"\n",
    "        Select action given a certain state:\n",
    "            - compute output of policy network (softmax)\n",
    "            - sample from network output\n",
    "            - compute action index\n",
    "        \n",
    "        Returns:\n",
    "            @action (integer): index of selected action\n",
    "        \"\"\"\n",
    "        \n",
    "        # using score function in pytorch to implement REINFORCE \n",
    "        self.state = state\n",
    "        s = torch.Tensor(self.state)\n",
    "        probs = self.policy(s)\n",
    "        action = torch.multinomial(probs,1).item()\n",
    "        log_prob = torch.log(probs[action])\n",
    "        self.log_prob_his.append(log_prob)\n",
    "  \n",
    "        return action\n",
    "    \n",
    "\n",
    "    def update(self, states, actions, rewards, gamma=0.95):\n",
    "        \"\"\"\n",
    "        Update parameters of agent\n",
    "        (in particular the parameters of the policy network)\n",
    "        \n",
    "        Inputs (has to match the function \"generate_episode\"):\n",
    "            @states (float array): trajectory of observed states\n",
    "            @actions (int array): vector of selected actions\n",
    "            @rewards (float array): trajectory of received rewards\n",
    "            @gamma (float): discounting rate\n",
    "        \"\"\"\n",
    "        \n",
    "        policy_g = []        \n",
    "        \n",
    "        \n",
    "            \n",
    "        r = np.array([gamma**i * rewards[i] for i in range(len(rewards))])\n",
    "        r = r[::-1].cumsum()[::-1]\n",
    "            \n",
    "        dis_r = r - r.mean()\n",
    "            \n",
    "        dis_r = torch.tensor(dis_r)\n",
    "            \n",
    "        for log_prob, G in zip(self.log_prob_his, rewards):\n",
    "            policy_g.append(-log_prob * G)\n",
    "\n",
    "        loss = torch.stack(policy_g).sum()\n",
    "        self.optimizer.zero_grad()\n",
    "        loss.backward()\n",
    "        self.optimizer.step()\n",
    "        \n",
    "        del self.log_prob_his[:]"
   ]
  },
  {
   "cell_type": "markdown",
   "metadata": {},
   "source": [
    "## 2. Generate one Episode (4 Points)\n",
    "This function should generate a full episode following the agent's policy $\\pi$."
   ]
  },
  {
   "cell_type": "code",
   "execution_count": 431,
   "metadata": {},
   "outputs": [],
   "source": [
    "def generate_episode(env, agent, max_steps, render=False):\n",
    "    \"\"\"\n",
    "    Generates one episode (S0, A0, R1, ..., RT) on a given\n",
    "    environment following the agent's policy.\n",
    "    \n",
    "    Inputs:\n",
    "        @env (OpenAI Gym environment): the environment to interact with\n",
    "        @agent (as defined above): the agent (policy) to follow\n",
    "        @max_steps (integer): maximum number of steps in episode.\n",
    "        @render (boolean): render environment after each action.\n",
    "    \n",
    "    Returns:\n",
    "        @states (float array): trajectory of observed states\n",
    "        @actions (int array): vector of selected actions\n",
    "        @rewards (float array): trajectory of received rewards\n",
    "        @total_reward (numerical): total accumulated reward of episode\n",
    "    \"\"\"\n",
    "    states = []\n",
    "    actions = []\n",
    "    rewards = []\n",
    "    state = env.reset()\n",
    "    \n",
    "    for i in range(max_steps):\n",
    "        \n",
    "        action = agent.choose_action(state)\n",
    "        next_state, reward, is_done, _ = env.step(action)\n",
    "        # store reward \n",
    "        states.append(state)\n",
    "        actions.append(action)\n",
    "        rewards.append(reward)\n",
    "\n",
    "        state = next_state\n",
    "        \n",
    "        if render:\n",
    "            env.render()\n",
    "            \n",
    "        if is_done:\n",
    "            break\n",
    "            \n",
    "        agent.update(states, actions, rewards)\n",
    "    \n",
    "    return states, actions, rewards, sum(rewards)"
   ]
  },
  {
   "cell_type": "markdown",
   "metadata": {},
   "source": [
    "## 3. Run Experiment (3 Points)\n",
    "This function runs one experiment and returns an array containing the reward achieved within each episode."
   ]
  },
  {
   "cell_type": "code",
   "execution_count": 432,
   "metadata": {},
   "outputs": [],
   "source": [
    "def run_experiment(env, agent, max_episodes, max_steps):\n",
    "    \"\"\"\n",
    "    Runs one experiment with given agent on given environment for a certain number of episodes.\n",
    "    \n",
    "    Inputs:\n",
    "        @env (OpenAI Gym environment): the environment to interact with\n",
    "        @agent (as defined above): the agent (policy) to follow\n",
    "        @max_episodes (integer): maximum number of episodes to train on.\n",
    "        @max_steps (integer): maximum number of steps in episode.\n",
    "    \n",
    "    Returns:\n",
    "        @rewards (vector with length <max_episodes>): containing the total rewards per episode\n",
    "    \"\"\"\n",
    "    total_rewards_his = []\n",
    "    \n",
    "    for i in range(max_episodes):\n",
    "        \n",
    "        state , action, reward , total_reward = generate_episode(env, agent, max_steps, render=False)\n",
    "        total_rewards_his.append(total_reward)\n",
    "    return total_rewards_his"
   ]
  },
  {
   "cell_type": "markdown",
   "metadata": {},
   "source": [
    "## Train\n",
    "This is the part where we actually train our agent. Make sure that your code allows to re-run the same experiment a couple of times. We will need this in the next part of the assignment.\n",
    "\n",
    "<div class=\"alert alert-info\">\n",
    "\n",
    "**Hint:** If you do not manage to implement REINFORCE with baseline just comment the respective lines in the code below to make sure the notebook is executable.\n",
    "\n",
    "</div>"
   ]
  },
  {
   "cell_type": "code",
   "execution_count": 433,
   "metadata": {},
   "outputs": [
    {
     "name": "stdout",
     "output_type": "stream",
     "text": [
      "Action Space: 2 <class 'gym.spaces.discrete.Discrete'>\n",
      "Box(4,)\n",
      "Observation Space: 4\n",
      "Experiment run 1\n"
     ]
    },
    {
     "name": "stderr",
     "output_type": "stream",
     "text": [
      "C:\\Users\\J. Park\\Anaconda3\\lib\\site-packages\\ipykernel_launcher.py:17: UserWarning: nn.init.xavier_uniform is now deprecated in favor of nn.init.xavier_uniform_.\n"
     ]
    },
    {
     "name": "stdout",
     "output_type": "stream",
     "text": [
      "Experiment run 2\n",
      "Experiment run 3\n",
      "Experiment run 4\n",
      "Experiment run 5\n"
     ]
    }
   ],
   "source": [
    "verbose = False\n",
    "max_steps = 200         # maximum time steps per episode\n",
    "max_episodes = 100      # overall maximum number of episodes\n",
    "num_experiments = 5     # number of experimental re-runs\n",
    "\n",
    "# init book keeping of rewards\n",
    "rewards = np.zeros((num_experiments, max_episodes))\n",
    "rewards_bl = np.zeros((num_experiments, max_episodes))\n",
    "\n",
    "# select gym environment\n",
    "env = gym.make('CartPole-v0')\n",
    "\n",
    "# get action space\n",
    "n_actions = env.action_space.n\n",
    "print(\"Action Space:\", n_actions, env.action_space.__class__)\n",
    "\n",
    "print(env.observation_space)\n",
    "\n",
    "# get dimensions of observations\n",
    "in_shape = list(env.observation_space.shape)[0]\n",
    "print(\"Observation Space:\", in_shape)\n",
    "\n",
    "# run multiple experiments to get reliable performance estimates\n",
    "for exp in range(num_experiments):\n",
    "    print('Experiment run %d' % (exp + 1))\n",
    "\n",
    "    # Reinforce agent\n",
    "    agent = Reinforce(env, alpha=0.001)\n",
    "    \n",
    "    # Reinforce with baseline agent\n",
    "    agent_bl = Reinforce(env, alpha=0.001, use_baseline=True)\n",
    "\n",
    "    # run experiments\n",
    "    rewards[exp, ] = run_experiment(env, agent, max_episodes, max_steps)\n",
    "    rewards_bl[exp, ] = run_experiment(env, agent_bl, max_episodes, max_steps)"
   ]
  },
  {
   "cell_type": "code",
   "execution_count": null,
   "metadata": {},
   "outputs": [],
   "source": []
  },
  {
   "cell_type": "markdown",
   "metadata": {},
   "source": [
    "## 4. Visualize the performance of your agent (3 Points)\n",
    "In order to visualize the performance of your agent **re-train it for 5 times** and keep the reward per episode for each of these runs.\n",
    "<br>\n",
    "To be clear:\n",
    "Run each of the five experiment for a maximum of 200 episodes. What you should end up with is a reward-matrix with shape (5 x 200).\n",
    "<br><br>\n",
    "Visualize this reward-matrix via the provided **tsplot** showing the mean and standard deviation of your collected rewards.\n",
    "<br>\n",
    "\n",
    "<div class=\"alert alert-info\">\n",
    "\n",
    "**Remarks:**\n",
    "\n",
    "- set the limits of your y-axis to [0, 220] to produce comparable plots (ore better plot compare everything in one figure).\n",
    "- use legends or appropriate titles in your figures\n",
    "- put labels to x and y axis\n",
    "\n",
    "</div>"
   ]
  },
  {
   "cell_type": "code",
   "execution_count": 434,
   "metadata": {},
   "outputs": [],
   "source": [
    "def tsplot(data, label=True, **kw):\n",
    "    \"\"\"\n",
    "    Just a helper function for nice std-plots.\n",
    "    \"\"\"\n",
    "   \n",
    "    x = np.arange(data.shape[1])\n",
    "    est = np.mean(data, axis=0)\n",
    "    sd = np.std(data, axis=0)\n",
    "    cis = (est - sd, est + sd)\n",
    "    plt.ylim ((0,220))\n",
    "    plt.xlabel(\"Episodes\")\n",
    "    plt.ylabel(\"Total Rewards\")\n",
    "    plt.fill_between(x, cis[0], cis[1], alpha=0.2, **kw)\n",
    "    plt.figure(figsize=(12,8))\n",
    "    for i in range (len(data)):\n",
    "        \n",
    "        plt.plot(data[i], est, label= \"Experiment run :\", **kw)\n",
    "        plt.margins(x=0)\n",
    "        plt.show()\n",
    "\n",
    "  "
   ]
  },
  {
   "cell_type": "code",
   "execution_count": 435,
   "metadata": {},
   "outputs": [],
   "source": [
    "verbose = False\n",
    "max_steps = 200         # maximum time steps per episode\n",
    "max_episodes = 200      # overall maximum number of episodes\n",
    "num_experiments = 5     # number of experimental re-runs\n",
    "\n",
    "# init book keeping of rewards\n",
    "rewards_2 = np.zeros((num_experiments, max_episodes))"
   ]
  },
  {
   "cell_type": "code",
   "execution_count": 436,
   "metadata": {},
   "outputs": [
    {
     "name": "stderr",
     "output_type": "stream",
     "text": [
      "C:\\Users\\J. Park\\Anaconda3\\lib\\site-packages\\ipykernel_launcher.py:17: UserWarning: nn.init.xavier_uniform is now deprecated in favor of nn.init.xavier_uniform_.\n"
     ]
    },
    {
     "name": "stdout",
     "output_type": "stream",
     "text": [
      "Experiment run 1\n",
      "Experiment run 2\n",
      "Experiment run 3\n",
      "Experiment run 4\n",
      "Experiment run 5\n"
     ]
    }
   ],
   "source": [
    "max_episodes = 200\n",
    "\n",
    "# Reinforce agent\n",
    "agent = Reinforce(env, alpha=0.001)\n",
    " \n",
    "# run experiments\n",
    "for exp in range(num_experiments):\n",
    "    print('Experiment run %d' % (exp + 1))\n",
    "    rewards_2[exp, ] = run_experiment(env, agent, max_episodes, max_steps)"
   ]
  },
  {
   "cell_type": "code",
   "execution_count": 437,
   "metadata": {},
   "outputs": [
    {
     "data": {
      "image/png": "[encoded data removed]",
      "text/plain": [
       "<Figure size 432x288 with 1 Axes>"
      ]
     },
     "metadata": {
      "needs_background": "light"
     },
     "output_type": "display_data"
    },
    {
     "data": {
      "image/png": "[encoded data removed]",
      "text/plain": [
       "<Figure size 864x576 with 1 Axes>"
      ]
     },
     "metadata": {
      "needs_background": "light"
     },
     "output_type": "display_data"
    },
    {
     "data": {
      "image/png": "[encoded data removed]",
      "text/plain": [
       "<Figure size 432x288 with 1 Axes>"
      ]
     },
     "metadata": {
      "needs_background": "light"
     },
     "output_type": "display_data"
    },
    {
     "data": {
      "image/png": "[encoded data removed]",
      "text/plain": [
       "<Figure size 432x288 with 1 Axes>"
      ]
     },
     "metadata": {
      "needs_background": "light"
     },
     "output_type": "display_data"
    },
    {
     "data": {
      "image/png": "[encoded data removed]",
      "text/plain": [
       "<Figure size 432x288 with 1 Axes>"
      ]
     },
     "metadata": {
      "needs_background": "light"
     },
     "output_type": "display_data"
    },
    {
     "data": {
      "image/png": "[encoded data removed]",
      "text/plain": [
       "<Figure size 432x288 with 1 Axes>"
      ]
     },
     "metadata": {
      "needs_background": "light"
     },
     "output_type": "display_data"
    }
   ],
   "source": [
    "tsplot(rewards_2)"
   ]
  },
  {
   "cell_type": "markdown",
   "metadata": {},
   "source": [
    "## 5. REINFORCE with Baseline (5 Points)\n",
    "Implement **REINFORCE with Baseline**.\n",
    "\n",
    "- You can either create a new class or include the implementation in the REINFORCE class above (Recall REINFORCE is a special case of REINFORCE with Baseline).\n",
    "- Run your implementation and compare *REINFORCE* and *REINFORCE with Baseline* in the experiments above.\n",
    "\n",
    "**Hints**:\n",
    "- Don't forget to discount your rewards when trying to learn a value function (see lecture slides)\n",
    "- If it does not work out of the box, don't get frustrated. It is not that easy to get the balance between the two different learning rates for the policy- and the value-network right. Grid search / Random search is your friend\n",
    "- Don't share the network parameters for policy and value network for this example. Use individual networks for each of them\n",
    "- Make sure the output of your value network is linear (e.g.: don't use a non-linearity)\n",
    "- If learning is unstable you can try to use a smaller learning rate for optimizing the value network (e.g. 10 times smaller than the policy learning rate)"
   ]
  },
  {
   "cell_type": "code",
   "execution_count": 442,
   "metadata": {},
   "outputs": [],
   "source": [
    "class Policy():\n",
    "    def __init__(self, n_state, n_action, n_hidden=128, lr=0.001):\n",
    "\n",
    "        self.policy = nn.Sequential(\n",
    "                        nn.Linear(n_state, n_hidden),\n",
    "                        nn.ReLU(),\n",
    "                        nn.Linear(n_hidden, n_hidden),\n",
    "                        nn.ReLU(),\n",
    "                        nn.Linear(n_hidden, n_hidden),\n",
    "                        nn.ReLU(),\n",
    "                        nn.Linear(n_hidden, n_action),\n",
    "                        nn.Softmax(),\n",
    "                )\n",
    "\n",
    "        self.optimizer = optim.Adam(self.policy.parameters(), lr)\n",
    "\n",
    "\n",
    "    def prediction(self, state):\n",
    "        \"\"\"\n",
    "        Compute the action probabilities of state s using the learning model\n",
    "        @param s: input state\n",
    "        @return: predicted policy\n",
    "        \"\"\"\n",
    "        return self.policy(torch.Tensor(state))\n",
    "\n",
    "    \n",
    "    def choose_action(self, state):\n",
    "        \"\"\"\n",
    "        Estimate the policy and sample an action, compute its log probability\n",
    "        @param s: input state\n",
    "        @return: the selected action and log probability\n",
    "        \"\"\"\n",
    "        probs = self.prediction(state)\n",
    "        action = torch.multinomial(probs, 1).item()\n",
    "        log_p = torch.log(probs[action])\n",
    "        return log_p , action\n",
    "\n",
    "    def update(self, re, log_probs):\n",
    "        \"\"\"\n",
    "        Update the weights of the policy network given the training samples\n",
    "        @param advantages: advantage for each step in an episode\n",
    "        @param log_probs: log probability for each step\n",
    "        \"\"\"\n",
    "        policy_g = []\n",
    "        for log_prob, Gt in zip(log_probs, re):\n",
    "            policy_g.append(-log_prob * Gt)\n",
    "\n",
    "        loss = torch.stack(policy_g).sum()\n",
    "        self.optimizer.zero_grad()\n",
    "        loss.backward()\n",
    "        self.optimizer.step()\n",
    "\n"
   ]
  },
  {
   "cell_type": "code",
   "execution_count": 443,
   "metadata": {},
   "outputs": [],
   "source": [
    "class ValueNetwork():\n",
    "    def __init__(self, n_state, n_hidden=30, lr=0.01):\n",
    "        self.criterion = torch.nn.MSELoss()\n",
    "        self.model = torch.nn.Sequential(\n",
    "                        torch.nn.Linear(n_state, n_hidden),\n",
    "                        torch.nn.ReLU(),\n",
    "                        torch.nn.Linear(n_hidden, 1)\n",
    "                )\n",
    "        self.optimizer = torch.optim.Adam(self.model.parameters(), lr)\n",
    "\n",
    "\n",
    "    def update(self, state, target):\n",
    "    \n",
    "        # to make an update the weights\n",
    "    \n",
    "        y_pred = self.model(torch.Tensor(state))\n",
    "        loss = self.criterion(y_pred, torch.autograd.Variable(torch.Tensor(target)))\n",
    "        self.optimizer.zero_grad()\n",
    "        loss.backward()\n",
    "        self.optimizer.step()\n",
    "\n",
    "\n",
    "    def prediction(self, state):\n",
    "        \n",
    "        # Compute the Q values of the state for all actions using the learning model\n",
    "        \n",
    "        with torch.no_grad():\n",
    "            return self.model(torch.Tensor(state))\n",
    "\n",
    "\n",
    "def reinforce(env, policy, est, num_episode, gamma=1.0):\n",
    "\n",
    "    # REINFORCE algorithm with baseline\n",
    "    \n",
    "    \n",
    "    for epi in range(num_episode):\n",
    "        log_probs = []\n",
    "        states = []\n",
    "        rewards = []\n",
    "        state = env.reset()\n",
    "\n",
    "        while True:\n",
    "            states.append(state)\n",
    "            log_prob, action = policy.choose_action(state)\n",
    "            next_state, reward, is_done, _ = env.step(action)\n",
    "\n",
    "            total_reward_episode[epi] += reward\n",
    "            log_probs.append(log_prob)\n",
    "\n",
    "            rewards.append(reward)\n",
    "\n",
    "            if is_done:\n",
    "                Gt = 0\n",
    "                pw = 0\n",
    "\n",
    "                returns = []\n",
    "                for t in range(len(states)-1, -1, -1):\n",
    "                    Gt += gamma ** pw * rewards[t]\n",
    "                    pw += 1\n",
    "                    returns.append(Gt)\n",
    "\n",
    "\n",
    "                returns = returns[::-1]\n",
    "                returns = torch.tensor(returns)\n",
    "\n",
    "                baseline_values = est.prediction(states)\n",
    "\n",
    "                benefit = returns - baseline_values\n",
    "\n",
    "\n",
    "                est.update(states, returns)\n",
    "\n",
    "                policy.update(benefits, log_probs)\n",
    "                \n",
    "                break\n",
    "\n",
    "            state = next_state"
   ]
  },
  {
   "cell_type": "code",
   "execution_count": 445,
   "metadata": {},
   "outputs": [],
   "source": [
    "env = gym.make('CartPole-v0')\n",
    "n_state = env.observation_space.shape[0]\n",
    "n_action = env.action_space.n\n",
    "n_hidden_p = 128\n",
    "lr_p = 0.003\n",
    "policy_net = Policy(n_state, n_action, n_hidden_p, lr_p)\n"
   ]
  },
  {
   "cell_type": "code",
   "execution_count": 446,
   "metadata": {},
   "outputs": [],
   "source": [
    "n_hidden_v = 128\n",
    "lr_v = 0.003\n",
    "value_net = ValueNetwork(n_state, n_hidden_v, lr_v)"
   ]
  },
  {
   "cell_type": "code",
   "execution_count": 447,
   "metadata": {},
   "outputs": [
    {
     "ename": "RuntimeError",
     "evalue": "input and target shapes do not match: input [11 x 1], target [11] at c:\\programdata\\miniconda3\\conda-bld\\pytorch_1524543037166\\work\\aten\\src\\thnn\\generic/MSECriterion.c:13",
     "output_type": "error",
     "traceback": [
      "\u001b[1;31m---------------------------------------------------------------------------\u001b[0m",
      "\u001b[1;31mRuntimeError\u001b[0m                              Traceback (most recent call last)",
      "\u001b[1;32m<ipython-input-447-12c296c7215f>\u001b[0m in \u001b[0;36m<module>\u001b[1;34m\u001b[0m\n\u001b[0;32m      3\u001b[0m \u001b[0mtotal_reward_episode\u001b[0m \u001b[1;33m=\u001b[0m \u001b[1;33m[\u001b[0m\u001b[1;36m0\u001b[0m\u001b[1;33m]\u001b[0m \u001b[1;33m*\u001b[0m \u001b[0mn_episode\u001b[0m\u001b[1;33m\u001b[0m\u001b[1;33m\u001b[0m\u001b[0m\n\u001b[0;32m      4\u001b[0m \u001b[1;33m\u001b[0m\u001b[0m\n\u001b[1;32m----> 5\u001b[1;33m \u001b[0mreinforce\u001b[0m\u001b[1;33m(\u001b[0m\u001b[0menv\u001b[0m\u001b[1;33m,\u001b[0m \u001b[0mpolicy_net\u001b[0m\u001b[1;33m,\u001b[0m \u001b[0mvalue_net\u001b[0m\u001b[1;33m,\u001b[0m \u001b[0mn_episode\u001b[0m\u001b[1;33m,\u001b[0m \u001b[0mgamma\u001b[0m\u001b[1;33m)\u001b[0m\u001b[1;33m\u001b[0m\u001b[1;33m\u001b[0m\u001b[0m\n\u001b[0m",
      "\u001b[1;32m<ipython-input-443-be5fb621928c>\u001b[0m in \u001b[0;36mreinforce\u001b[1;34m(env, policy, est, num_episode, gamma)\u001b[0m\n\u001b[0;32m     69\u001b[0m \u001b[1;33m\u001b[0m\u001b[0m\n\u001b[0;32m     70\u001b[0m \u001b[1;33m\u001b[0m\u001b[0m\n\u001b[1;32m---> 71\u001b[1;33m                 \u001b[0mest\u001b[0m\u001b[1;33m.\u001b[0m\u001b[0mupdate\u001b[0m\u001b[1;33m(\u001b[0m\u001b[0mstates\u001b[0m\u001b[1;33m,\u001b[0m \u001b[0mreturns\u001b[0m\u001b[1;33m)\u001b[0m\u001b[1;33m\u001b[0m\u001b[1;33m\u001b[0m\u001b[0m\n\u001b[0m\u001b[0;32m     72\u001b[0m \u001b[1;33m\u001b[0m\u001b[0m\n\u001b[0;32m     73\u001b[0m                 \u001b[0mpolicy\u001b[0m\u001b[1;33m.\u001b[0m\u001b[0mupdate\u001b[0m\u001b[1;33m(\u001b[0m\u001b[0mbenefits\u001b[0m\u001b[1;33m,\u001b[0m \u001b[0mlog_probs\u001b[0m\u001b[1;33m)\u001b[0m\u001b[1;33m\u001b[0m\u001b[1;33m\u001b[0m\u001b[0m\n",
      "\u001b[1;32m<ipython-input-443-be5fb621928c>\u001b[0m in \u001b[0;36mupdate\u001b[1;34m(self, state, target)\u001b[0m\n\u001b[0;32m     15\u001b[0m \u001b[1;33m\u001b[0m\u001b[0m\n\u001b[0;32m     16\u001b[0m         \u001b[0my_pred\u001b[0m \u001b[1;33m=\u001b[0m \u001b[0mself\u001b[0m\u001b[1;33m.\u001b[0m\u001b[0mmodel\u001b[0m\u001b[1;33m(\u001b[0m\u001b[0mtorch\u001b[0m\u001b[1;33m.\u001b[0m\u001b[0mTensor\u001b[0m\u001b[1;33m(\u001b[0m\u001b[0mstate\u001b[0m\u001b[1;33m)\u001b[0m\u001b[1;33m)\u001b[0m\u001b[1;33m\u001b[0m\u001b[1;33m\u001b[0m\u001b[0m\n\u001b[1;32m---> 17\u001b[1;33m         \u001b[0mloss\u001b[0m \u001b[1;33m=\u001b[0m \u001b[0mself\u001b[0m\u001b[1;33m.\u001b[0m\u001b[0mcriterion\u001b[0m\u001b[1;33m(\u001b[0m\u001b[0my_pred\u001b[0m\u001b[1;33m,\u001b[0m \u001b[0mtorch\u001b[0m\u001b[1;33m.\u001b[0m\u001b[0mautograd\u001b[0m\u001b[1;33m.\u001b[0m\u001b[0mVariable\u001b[0m\u001b[1;33m(\u001b[0m\u001b[0mtorch\u001b[0m\u001b[1;33m.\u001b[0m\u001b[0mTensor\u001b[0m\u001b[1;33m(\u001b[0m\u001b[0mtarget\u001b[0m\u001b[1;33m)\u001b[0m\u001b[1;33m)\u001b[0m\u001b[1;33m)\u001b[0m\u001b[1;33m\u001b[0m\u001b[1;33m\u001b[0m\u001b[0m\n\u001b[0m\u001b[0;32m     18\u001b[0m         \u001b[0mself\u001b[0m\u001b[1;33m.\u001b[0m\u001b[0moptimizer\u001b[0m\u001b[1;33m.\u001b[0m\u001b[0mzero_grad\u001b[0m\u001b[1;33m(\u001b[0m\u001b[1;33m)\u001b[0m\u001b[1;33m\u001b[0m\u001b[1;33m\u001b[0m\u001b[0m\n\u001b[0;32m     19\u001b[0m         \u001b[0mloss\u001b[0m\u001b[1;33m.\u001b[0m\u001b[0mbackward\u001b[0m\u001b[1;33m(\u001b[0m\u001b[1;33m)\u001b[0m\u001b[1;33m\u001b[0m\u001b[1;33m\u001b[0m\u001b[0m\n",
      "\u001b[1;32m~\\Anaconda3\\lib\\site-packages\\torch\\nn\\modules\\module.py\u001b[0m in \u001b[0;36m__call__\u001b[1;34m(self, *input, **kwargs)\u001b[0m\n\u001b[0;32m    489\u001b[0m             \u001b[0mresult\u001b[0m \u001b[1;33m=\u001b[0m \u001b[0mself\u001b[0m\u001b[1;33m.\u001b[0m\u001b[0m_slow_forward\u001b[0m\u001b[1;33m(\u001b[0m\u001b[1;33m*\u001b[0m\u001b[0minput\u001b[0m\u001b[1;33m,\u001b[0m \u001b[1;33m**\u001b[0m\u001b[0mkwargs\u001b[0m\u001b[1;33m)\u001b[0m\u001b[1;33m\u001b[0m\u001b[1;33m\u001b[0m\u001b[0m\n\u001b[0;32m    490\u001b[0m         \u001b[1;32melse\u001b[0m\u001b[1;33m:\u001b[0m\u001b[1;33m\u001b[0m\u001b[1;33m\u001b[0m\u001b[0m\n\u001b[1;32m--> 491\u001b[1;33m             \u001b[0mresult\u001b[0m \u001b[1;33m=\u001b[0m \u001b[0mself\u001b[0m\u001b[1;33m.\u001b[0m\u001b[0mforward\u001b[0m\u001b[1;33m(\u001b[0m\u001b[1;33m*\u001b[0m\u001b[0minput\u001b[0m\u001b[1;33m,\u001b[0m \u001b[1;33m**\u001b[0m\u001b[0mkwargs\u001b[0m\u001b[1;33m)\u001b[0m\u001b[1;33m\u001b[0m\u001b[1;33m\u001b[0m\u001b[0m\n\u001b[0m\u001b[0;32m    492\u001b[0m         \u001b[1;32mfor\u001b[0m \u001b[0mhook\u001b[0m \u001b[1;32min\u001b[0m \u001b[0mself\u001b[0m\u001b[1;33m.\u001b[0m\u001b[0m_forward_hooks\u001b[0m\u001b[1;33m.\u001b[0m\u001b[0mvalues\u001b[0m\u001b[1;33m(\u001b[0m\u001b[1;33m)\u001b[0m\u001b[1;33m:\u001b[0m\u001b[1;33m\u001b[0m\u001b[1;33m\u001b[0m\u001b[0m\n\u001b[0;32m    493\u001b[0m             \u001b[0mhook_result\u001b[0m \u001b[1;33m=\u001b[0m \u001b[0mhook\u001b[0m\u001b[1;33m(\u001b[0m\u001b[0mself\u001b[0m\u001b[1;33m,\u001b[0m \u001b[0minput\u001b[0m\u001b[1;33m,\u001b[0m \u001b[0mresult\u001b[0m\u001b[1;33m)\u001b[0m\u001b[1;33m\u001b[0m\u001b[1;33m\u001b[0m\u001b[0m\n",
      "\u001b[1;32m~\\Anaconda3\\lib\\site-packages\\torch\\nn\\modules\\loss.py\u001b[0m in \u001b[0;36mforward\u001b[1;34m(self, input, target)\u001b[0m\n\u001b[0;32m    370\u001b[0m     \u001b[1;32mdef\u001b[0m \u001b[0mforward\u001b[0m\u001b[1;33m(\u001b[0m\u001b[0mself\u001b[0m\u001b[1;33m,\u001b[0m \u001b[0minput\u001b[0m\u001b[1;33m,\u001b[0m \u001b[0mtarget\u001b[0m\u001b[1;33m)\u001b[0m\u001b[1;33m:\u001b[0m\u001b[1;33m\u001b[0m\u001b[1;33m\u001b[0m\u001b[0m\n\u001b[0;32m    371\u001b[0m         \u001b[0m_assert_no_grad\u001b[0m\u001b[1;33m(\u001b[0m\u001b[0mtarget\u001b[0m\u001b[1;33m)\u001b[0m\u001b[1;33m\u001b[0m\u001b[1;33m\u001b[0m\u001b[0m\n\u001b[1;32m--> 372\u001b[1;33m         \u001b[1;32mreturn\u001b[0m \u001b[0mF\u001b[0m\u001b[1;33m.\u001b[0m\u001b[0mmse_loss\u001b[0m\u001b[1;33m(\u001b[0m\u001b[0minput\u001b[0m\u001b[1;33m,\u001b[0m \u001b[0mtarget\u001b[0m\u001b[1;33m,\u001b[0m \u001b[0msize_average\u001b[0m\u001b[1;33m=\u001b[0m\u001b[0mself\u001b[0m\u001b[1;33m.\u001b[0m\u001b[0msize_average\u001b[0m\u001b[1;33m,\u001b[0m \u001b[0mreduce\u001b[0m\u001b[1;33m=\u001b[0m\u001b[0mself\u001b[0m\u001b[1;33m.\u001b[0m\u001b[0mreduce\u001b[0m\u001b[1;33m)\u001b[0m\u001b[1;33m\u001b[0m\u001b[1;33m\u001b[0m\u001b[0m\n\u001b[0m\u001b[0;32m    373\u001b[0m \u001b[1;33m\u001b[0m\u001b[0m\n\u001b[0;32m    374\u001b[0m \u001b[1;33m\u001b[0m\u001b[0m\n",
      "\u001b[1;32m~\\Anaconda3\\lib\\site-packages\\torch\\nn\\functional.py\u001b[0m in \u001b[0;36mmse_loss\u001b[1;34m(input, target, size_average, reduce)\u001b[0m\n\u001b[0;32m   1567\u001b[0m     \"\"\"\n\u001b[0;32m   1568\u001b[0m     return _pointwise_loss(lambda a, b: (a - b) ** 2, torch._C._nn.mse_loss,\n\u001b[1;32m-> 1569\u001b[1;33m                            input, target, size_average, reduce)\n\u001b[0m\u001b[0;32m   1570\u001b[0m \u001b[1;33m\u001b[0m\u001b[0m\n\u001b[0;32m   1571\u001b[0m \u001b[1;33m\u001b[0m\u001b[0m\n",
      "\u001b[1;32m~\\Anaconda3\\lib\\site-packages\\torch\\nn\\functional.py\u001b[0m in \u001b[0;36m_pointwise_loss\u001b[1;34m(lambd, lambd_optimized, input, target, size_average, reduce)\u001b[0m\n\u001b[0;32m   1535\u001b[0m         \u001b[1;32mreturn\u001b[0m \u001b[0mtorch\u001b[0m\u001b[1;33m.\u001b[0m\u001b[0mmean\u001b[0m\u001b[1;33m(\u001b[0m\u001b[0md\u001b[0m\u001b[1;33m)\u001b[0m \u001b[1;32mif\u001b[0m \u001b[0msize_average\u001b[0m \u001b[1;32melse\u001b[0m \u001b[0mtorch\u001b[0m\u001b[1;33m.\u001b[0m\u001b[0msum\u001b[0m\u001b[1;33m(\u001b[0m\u001b[0md\u001b[0m\u001b[1;33m)\u001b[0m\u001b[1;33m\u001b[0m\u001b[1;33m\u001b[0m\u001b[0m\n\u001b[0;32m   1536\u001b[0m     \u001b[1;32melse\u001b[0m\u001b[1;33m:\u001b[0m\u001b[1;33m\u001b[0m\u001b[1;33m\u001b[0m\u001b[0m\n\u001b[1;32m-> 1537\u001b[1;33m         \u001b[1;32mreturn\u001b[0m \u001b[0mlambd_optimized\u001b[0m\u001b[1;33m(\u001b[0m\u001b[0minput\u001b[0m\u001b[1;33m,\u001b[0m \u001b[0mtarget\u001b[0m\u001b[1;33m,\u001b[0m \u001b[0msize_average\u001b[0m\u001b[1;33m,\u001b[0m \u001b[0mreduce\u001b[0m\u001b[1;33m)\u001b[0m\u001b[1;33m\u001b[0m\u001b[1;33m\u001b[0m\u001b[0m\n\u001b[0m\u001b[0;32m   1538\u001b[0m \u001b[1;33m\u001b[0m\u001b[0m\n\u001b[0;32m   1539\u001b[0m \u001b[1;33m\u001b[0m\u001b[0m\n",
      "\u001b[1;31mRuntimeError\u001b[0m: input and target shapes do not match: input [11 x 1], target [11] at c:\\programdata\\miniconda3\\conda-bld\\pytorch_1524543037166\\work\\aten\\src\\thnn\\generic/MSECriterion.c:13"
     ]
    }
   ],
   "source": [
    "n_episode = 200\n",
    "gamma = 0.95\n",
    "total_reward_episode = [0] * n_episode\n",
    "\n",
    "reinforce(env, policy_net, value_net, n_episode, gamma)"
   ]
  },
  {
   "cell_type": "code",
   "execution_count": 394,
   "metadata": {},
   "outputs": [],
   "source": [
    "# maximum time steps per episode\n",
    "max_episodes = 200      # overall maximum number of episodes\n",
    "num_experiments = 5     # number of experimental re-runs\n",
    "\n",
    "# init book keeping of rewards\n",
    "rewards_3 = np.zeros((num_experiments, max_episodes))"
   ]
  },
  {
   "cell_type": "code",
   "execution_count": 441,
   "metadata": {},
   "outputs": [
    {
     "name": "stdout",
     "output_type": "stream",
     "text": [
      "Experiment run 1\n"
     ]
    },
    {
     "ename": "RuntimeError",
     "evalue": "input and target shapes do not match: input [14 x 1], target [14] at c:\\programdata\\miniconda3\\conda-bld\\pytorch_1524543037166\\work\\aten\\src\\thnn\\generic/MSECriterion.c:13",
     "output_type": "error",
     "traceback": [
      "\u001b[1;31m---------------------------------------------------------------------------\u001b[0m",
      "\u001b[1;31mRuntimeError\u001b[0m                              Traceback (most recent call last)",
      "\u001b[1;32m<ipython-input-441-e20f8cd5ab3e>\u001b[0m in \u001b[0;36m<module>\u001b[1;34m\u001b[0m\n\u001b[0;32m      2\u001b[0m \u001b[1;32mfor\u001b[0m \u001b[0mexp\u001b[0m \u001b[1;32min\u001b[0m \u001b[0mrange\u001b[0m\u001b[1;33m(\u001b[0m\u001b[0mnum_experiments\u001b[0m\u001b[1;33m)\u001b[0m\u001b[1;33m:\u001b[0m\u001b[1;33m\u001b[0m\u001b[1;33m\u001b[0m\u001b[0m\n\u001b[0;32m      3\u001b[0m     \u001b[0mprint\u001b[0m\u001b[1;33m(\u001b[0m\u001b[1;34m'Experiment run %d'\u001b[0m \u001b[1;33m%\u001b[0m \u001b[1;33m(\u001b[0m\u001b[0mexp\u001b[0m \u001b[1;33m+\u001b[0m \u001b[1;36m1\u001b[0m\u001b[1;33m)\u001b[0m\u001b[1;33m)\u001b[0m\u001b[1;33m\u001b[0m\u001b[1;33m\u001b[0m\u001b[0m\n\u001b[1;32m----> 4\u001b[1;33m     \u001b[0mrewards_3\u001b[0m\u001b[1;33m[\u001b[0m\u001b[0mexp\u001b[0m\u001b[1;33m,\u001b[0m \u001b[1;33m]\u001b[0m \u001b[1;33m=\u001b[0m \u001b[0mreinforce\u001b[0m\u001b[1;33m(\u001b[0m\u001b[0menv\u001b[0m\u001b[1;33m,\u001b[0m \u001b[0mpolicy_net\u001b[0m\u001b[1;33m,\u001b[0m \u001b[0mvalue_net\u001b[0m\u001b[1;33m,\u001b[0m \u001b[0mn_episode\u001b[0m\u001b[1;33m,\u001b[0m \u001b[0mgamma\u001b[0m\u001b[1;33m)\u001b[0m\u001b[1;33m\u001b[0m\u001b[1;33m\u001b[0m\u001b[0m\n\u001b[0m",
      "\u001b[1;32m<ipython-input-390-c08171c060c7>\u001b[0m in \u001b[0;36mreinforce\u001b[1;34m(env, policy, est, num_episode, gamma)\u001b[0m\n\u001b[0;32m     77\u001b[0m \u001b[1;33m\u001b[0m\u001b[0m\n\u001b[0;32m     78\u001b[0m \u001b[1;33m\u001b[0m\u001b[0m\n\u001b[1;32m---> 79\u001b[1;33m                 \u001b[0mest\u001b[0m\u001b[1;33m.\u001b[0m\u001b[0mupdate\u001b[0m\u001b[1;33m(\u001b[0m\u001b[0mstates\u001b[0m\u001b[1;33m,\u001b[0m \u001b[0mreturns\u001b[0m\u001b[1;33m)\u001b[0m\u001b[1;33m\u001b[0m\u001b[1;33m\u001b[0m\u001b[0m\n\u001b[0m\u001b[0;32m     80\u001b[0m \u001b[1;33m\u001b[0m\u001b[0m\n\u001b[0;32m     81\u001b[0m                 \u001b[0mpolicy\u001b[0m\u001b[1;33m.\u001b[0m\u001b[0mupdate\u001b[0m\u001b[1;33m(\u001b[0m\u001b[0mbenefits\u001b[0m\u001b[1;33m,\u001b[0m \u001b[0mlog_probs\u001b[0m\u001b[1;33m)\u001b[0m\u001b[1;33m\u001b[0m\u001b[1;33m\u001b[0m\u001b[0m\n",
      "\u001b[1;32m<ipython-input-390-c08171c060c7>\u001b[0m in \u001b[0;36mupdate\u001b[1;34m(self, state, target)\u001b[0m\n\u001b[0;32m     17\u001b[0m         \"\"\"\n\u001b[0;32m     18\u001b[0m         \u001b[0my_pred\u001b[0m \u001b[1;33m=\u001b[0m \u001b[0mself\u001b[0m\u001b[1;33m.\u001b[0m\u001b[0mmodel\u001b[0m\u001b[1;33m(\u001b[0m\u001b[0mtorch\u001b[0m\u001b[1;33m.\u001b[0m\u001b[0mTensor\u001b[0m\u001b[1;33m(\u001b[0m\u001b[0mstate\u001b[0m\u001b[1;33m)\u001b[0m\u001b[1;33m)\u001b[0m\u001b[1;33m\u001b[0m\u001b[1;33m\u001b[0m\u001b[0m\n\u001b[1;32m---> 19\u001b[1;33m         \u001b[0mloss\u001b[0m \u001b[1;33m=\u001b[0m \u001b[0mself\u001b[0m\u001b[1;33m.\u001b[0m\u001b[0mcriterion\u001b[0m\u001b[1;33m(\u001b[0m\u001b[0my_pred\u001b[0m\u001b[1;33m,\u001b[0m \u001b[0mtorch\u001b[0m\u001b[1;33m.\u001b[0m\u001b[0mautograd\u001b[0m\u001b[1;33m.\u001b[0m\u001b[0mVariable\u001b[0m\u001b[1;33m(\u001b[0m\u001b[0mtorch\u001b[0m\u001b[1;33m.\u001b[0m\u001b[0mTensor\u001b[0m\u001b[1;33m(\u001b[0m\u001b[0mtarget\u001b[0m\u001b[1;33m)\u001b[0m\u001b[1;33m)\u001b[0m\u001b[1;33m)\u001b[0m\u001b[1;33m\u001b[0m\u001b[1;33m\u001b[0m\u001b[0m\n\u001b[0m\u001b[0;32m     20\u001b[0m         \u001b[0mself\u001b[0m\u001b[1;33m.\u001b[0m\u001b[0moptimizer\u001b[0m\u001b[1;33m.\u001b[0m\u001b[0mzero_grad\u001b[0m\u001b[1;33m(\u001b[0m\u001b[1;33m)\u001b[0m\u001b[1;33m\u001b[0m\u001b[1;33m\u001b[0m\u001b[0m\n\u001b[0;32m     21\u001b[0m         \u001b[0mloss\u001b[0m\u001b[1;33m.\u001b[0m\u001b[0mbackward\u001b[0m\u001b[1;33m(\u001b[0m\u001b[1;33m)\u001b[0m\u001b[1;33m\u001b[0m\u001b[1;33m\u001b[0m\u001b[0m\n",
      "\u001b[1;32m~\\Anaconda3\\lib\\site-packages\\torch\\nn\\modules\\module.py\u001b[0m in \u001b[0;36m__call__\u001b[1;34m(self, *input, **kwargs)\u001b[0m\n\u001b[0;32m    489\u001b[0m             \u001b[0mresult\u001b[0m \u001b[1;33m=\u001b[0m \u001b[0mself\u001b[0m\u001b[1;33m.\u001b[0m\u001b[0m_slow_forward\u001b[0m\u001b[1;33m(\u001b[0m\u001b[1;33m*\u001b[0m\u001b[0minput\u001b[0m\u001b[1;33m,\u001b[0m \u001b[1;33m**\u001b[0m\u001b[0mkwargs\u001b[0m\u001b[1;33m)\u001b[0m\u001b[1;33m\u001b[0m\u001b[1;33m\u001b[0m\u001b[0m\n\u001b[0;32m    490\u001b[0m         \u001b[1;32melse\u001b[0m\u001b[1;33m:\u001b[0m\u001b[1;33m\u001b[0m\u001b[1;33m\u001b[0m\u001b[0m\n\u001b[1;32m--> 491\u001b[1;33m             \u001b[0mresult\u001b[0m \u001b[1;33m=\u001b[0m \u001b[0mself\u001b[0m\u001b[1;33m.\u001b[0m\u001b[0mforward\u001b[0m\u001b[1;33m(\u001b[0m\u001b[1;33m*\u001b[0m\u001b[0minput\u001b[0m\u001b[1;33m,\u001b[0m \u001b[1;33m**\u001b[0m\u001b[0mkwargs\u001b[0m\u001b[1;33m)\u001b[0m\u001b[1;33m\u001b[0m\u001b[1;33m\u001b[0m\u001b[0m\n\u001b[0m\u001b[0;32m    492\u001b[0m         \u001b[1;32mfor\u001b[0m \u001b[0mhook\u001b[0m \u001b[1;32min\u001b[0m \u001b[0mself\u001b[0m\u001b[1;33m.\u001b[0m\u001b[0m_forward_hooks\u001b[0m\u001b[1;33m.\u001b[0m\u001b[0mvalues\u001b[0m\u001b[1;33m(\u001b[0m\u001b[1;33m)\u001b[0m\u001b[1;33m:\u001b[0m\u001b[1;33m\u001b[0m\u001b[1;33m\u001b[0m\u001b[0m\n\u001b[0;32m    493\u001b[0m             \u001b[0mhook_result\u001b[0m \u001b[1;33m=\u001b[0m \u001b[0mhook\u001b[0m\u001b[1;33m(\u001b[0m\u001b[0mself\u001b[0m\u001b[1;33m,\u001b[0m \u001b[0minput\u001b[0m\u001b[1;33m,\u001b[0m \u001b[0mresult\u001b[0m\u001b[1;33m)\u001b[0m\u001b[1;33m\u001b[0m\u001b[1;33m\u001b[0m\u001b[0m\n",
      "\u001b[1;32m~\\Anaconda3\\lib\\site-packages\\torch\\nn\\modules\\loss.py\u001b[0m in \u001b[0;36mforward\u001b[1;34m(self, input, target)\u001b[0m\n\u001b[0;32m    370\u001b[0m     \u001b[1;32mdef\u001b[0m \u001b[0mforward\u001b[0m\u001b[1;33m(\u001b[0m\u001b[0mself\u001b[0m\u001b[1;33m,\u001b[0m \u001b[0minput\u001b[0m\u001b[1;33m,\u001b[0m \u001b[0mtarget\u001b[0m\u001b[1;33m)\u001b[0m\u001b[1;33m:\u001b[0m\u001b[1;33m\u001b[0m\u001b[1;33m\u001b[0m\u001b[0m\n\u001b[0;32m    371\u001b[0m         \u001b[0m_assert_no_grad\u001b[0m\u001b[1;33m(\u001b[0m\u001b[0mtarget\u001b[0m\u001b[1;33m)\u001b[0m\u001b[1;33m\u001b[0m\u001b[1;33m\u001b[0m\u001b[0m\n\u001b[1;32m--> 372\u001b[1;33m         \u001b[1;32mreturn\u001b[0m \u001b[0mF\u001b[0m\u001b[1;33m.\u001b[0m\u001b[0mmse_loss\u001b[0m\u001b[1;33m(\u001b[0m\u001b[0minput\u001b[0m\u001b[1;33m,\u001b[0m \u001b[0mtarget\u001b[0m\u001b[1;33m,\u001b[0m \u001b[0msize_average\u001b[0m\u001b[1;33m=\u001b[0m\u001b[0mself\u001b[0m\u001b[1;33m.\u001b[0m\u001b[0msize_average\u001b[0m\u001b[1;33m,\u001b[0m \u001b[0mreduce\u001b[0m\u001b[1;33m=\u001b[0m\u001b[0mself\u001b[0m\u001b[1;33m.\u001b[0m\u001b[0mreduce\u001b[0m\u001b[1;33m)\u001b[0m\u001b[1;33m\u001b[0m\u001b[1;33m\u001b[0m\u001b[0m\n\u001b[0m\u001b[0;32m    373\u001b[0m \u001b[1;33m\u001b[0m\u001b[0m\n\u001b[0;32m    374\u001b[0m \u001b[1;33m\u001b[0m\u001b[0m\n",
      "\u001b[1;32m~\\Anaconda3\\lib\\site-packages\\torch\\nn\\functional.py\u001b[0m in \u001b[0;36mmse_loss\u001b[1;34m(input, target, size_average, reduce)\u001b[0m\n\u001b[0;32m   1567\u001b[0m     \"\"\"\n\u001b[0;32m   1568\u001b[0m     return _pointwise_loss(lambda a, b: (a - b) ** 2, torch._C._nn.mse_loss,\n\u001b[1;32m-> 1569\u001b[1;33m                            input, target, size_average, reduce)\n\u001b[0m\u001b[0;32m   1570\u001b[0m \u001b[1;33m\u001b[0m\u001b[0m\n\u001b[0;32m   1571\u001b[0m \u001b[1;33m\u001b[0m\u001b[0m\n",
      "\u001b[1;32m~\\Anaconda3\\lib\\site-packages\\torch\\nn\\functional.py\u001b[0m in \u001b[0;36m_pointwise_loss\u001b[1;34m(lambd, lambd_optimized, input, target, size_average, reduce)\u001b[0m\n\u001b[0;32m   1535\u001b[0m         \u001b[1;32mreturn\u001b[0m \u001b[0mtorch\u001b[0m\u001b[1;33m.\u001b[0m\u001b[0mmean\u001b[0m\u001b[1;33m(\u001b[0m\u001b[0md\u001b[0m\u001b[1;33m)\u001b[0m \u001b[1;32mif\u001b[0m \u001b[0msize_average\u001b[0m \u001b[1;32melse\u001b[0m \u001b[0mtorch\u001b[0m\u001b[1;33m.\u001b[0m\u001b[0msum\u001b[0m\u001b[1;33m(\u001b[0m\u001b[0md\u001b[0m\u001b[1;33m)\u001b[0m\u001b[1;33m\u001b[0m\u001b[1;33m\u001b[0m\u001b[0m\n\u001b[0;32m   1536\u001b[0m     \u001b[1;32melse\u001b[0m\u001b[1;33m:\u001b[0m\u001b[1;33m\u001b[0m\u001b[1;33m\u001b[0m\u001b[0m\n\u001b[1;32m-> 1537\u001b[1;33m         \u001b[1;32mreturn\u001b[0m \u001b[0mlambd_optimized\u001b[0m\u001b[1;33m(\u001b[0m\u001b[0minput\u001b[0m\u001b[1;33m,\u001b[0m \u001b[0mtarget\u001b[0m\u001b[1;33m,\u001b[0m \u001b[0msize_average\u001b[0m\u001b[1;33m,\u001b[0m \u001b[0mreduce\u001b[0m\u001b[1;33m)\u001b[0m\u001b[1;33m\u001b[0m\u001b[1;33m\u001b[0m\u001b[0m\n\u001b[0m\u001b[0;32m   1538\u001b[0m \u001b[1;33m\u001b[0m\u001b[0m\n\u001b[0;32m   1539\u001b[0m \u001b[1;33m\u001b[0m\u001b[0m\n",
      "\u001b[1;31mRuntimeError\u001b[0m: input and target shapes do not match: input [14 x 1], target [14] at c:\\programdata\\miniconda3\\conda-bld\\pytorch_1524543037166\\work\\aten\\src\\thnn\\generic/MSECriterion.c:13"
     ]
    }
   ],
   "source": [
    "# run experiments\n",
    "for exp in range(num_experiments):\n",
    "    print('Experiment run %d' % (exp + 1))\n",
    "    rewards_3[exp, ] = reinforce(env, policy_net, value_net, n_episode, gamma)"
   ]
  },
  {
   "cell_type": "markdown",
   "metadata": {},
   "source": [
    "## 6. Visual Inspection (0 Points, $\\infty$ fun)\n",
    "\n",
    "<div class=\"alert alert-info\">\n",
    "\n",
    "Once you are done with training your agents you can visually inspect their behavior of your agent by calling the function *env.render()* after each step.\n",
    "</div>"
   ]
  },
  {
   "cell_type": "code",
   "execution_count": null,
   "metadata": {},
   "outputs": [],
   "source": []
  },
  {
   "cell_type": "code",
   "execution_count": null,
   "metadata": {},
   "outputs": [],
   "source": [
    "import time\n",
    "env = gym.make('CartPole-v0')\n",
    "\n",
    "for i_episode in range(5):\n",
    "    observation = env.reset()\n",
    "    for t in range(200):\n",
    "        env.render()\n",
    "        time.sleep(0.02)\n",
    "        \n",
    "        # TODO: replace this with your trained agent for action selection.\n",
    "        action = env.action_space.sample()\n",
    "        \n",
    "        observation, reward, done, info = env.step(action)\n",
    "        \n",
    "        if done:\n",
    "            break"
   ]
  },
  {
   "cell_type": "code",
   "execution_count": null,
   "metadata": {},
   "outputs": [],
   "source": []
  }
 ],
 "metadata": {
  "kernelspec": {
   "display_name": "Python 3",
   "language": "python",
   "name": "python3"
  },
  "language_info": {
   "codemirror_mode": {
    "name": "ipython",
    "version": 3
   },
   "file_extension": ".py",
   "mimetype": "text/x-python",
   "name": "python",
   "nbconvert_exporter": "python",
   "pygments_lexer": "ipython3",
   "version": "3.7.6"
  }
 },
 "nbformat": 4,
 "nbformat_minor": 2
}
